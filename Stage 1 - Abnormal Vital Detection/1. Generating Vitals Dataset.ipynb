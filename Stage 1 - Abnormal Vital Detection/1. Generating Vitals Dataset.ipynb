{
  "cells": [
    {
      "cell_type": "code",
      "execution_count": 35,
      "metadata": {
        "id": "6ekoYDGOPTmv"
      },
      "outputs": [],
      "source": [
        "import csv\n",
        "import random\n",
        "import numpy as np"
      ]
    },
    {
      "cell_type": "code",
      "execution_count": 36,
      "metadata": {
        "id": "egc7lbehPYgt"
      },
      "outputs": [],
      "source": [
        "def generate_noisy_data(normal_ranges, num_samples, noise_std_dev=5):\n",
        "    noisy_data = np.zeros((num_samples, len(normal_ranges) + 1))\n",
        "    for i in range(num_samples):\n",
        "        # Set the label for this row to 0 initially (if needed, we will set it to 1 later)\n",
        "        noisy_data[i, -1] = 0\n",
        "\n",
        "\n",
        "        for j, vital_sign in enumerate(normal_ranges):\n",
        "            # Generate data within normal range\n",
        "            noisy_data[i, j] = random.uniform(normal_ranges[vital_sign][0], normal_ranges[vital_sign][1])\n",
        "\n",
        "            # Add random noise with the specified standard deviation\n",
        "            noisy_data[i, j] += random.normalvariate(0, noise_std_dev)\n",
        "\n",
        "            # If any column of the current row falls out of range, set the label to 1\n",
        "            if noisy_data[i, j] < normal_ranges[vital_sign][0] or noisy_data[i, j] > normal_ranges[vital_sign][1]:\n",
        "                noisy_data[i, -1] = 1\n",
        "\n",
        "    return noisy_data"
      ]
    },
    {
      "cell_type": "code",
      "execution_count": 37,
      "metadata": {
        "id": "gtAQyNUVPZ-k"
      },
      "outputs": [],
      "source": [
        "def export_noisy_data_to_csv(noisy_data, filename):\n",
        "    with open(filename, \"w\", newline='') as csvfile:\n",
        "        csv_writer = csv.writer(csvfile, delimiter=\",\")\n",
        "        csv_writer.writerow([\"respiratory_rate\", \"blood_oxygen\", \"blood_sugar\", \"systolic_bp\", \"diastolic_bp\", \"heart_rate\", \"class\"])\n",
        "        for row in noisy_data:\n",
        "            csv_writer.writerow(row)"
      ]
    },
    {
      "cell_type": "code",
      "execution_count": 38,
      "metadata": {
        "id": "DFyoxUyxPcjf"
      },
      "outputs": [],
      "source": [
        "normal_ranges = {\n",
        "    \"respiratory_rate\": (12, 20),\n",
        "    \"blood_oxygen\": (95.0, 100.0),\n",
        "    \"blood_sugar\": (70.0, 100.0),\n",
        "    \"systolic_bp\": (90.0, 130.0),\n",
        "    \"diastolic_bp\": (60.0, 85.0),\n",
        "    \"heart_rate\": (61, 90)\n",
        "}\n",
        "\n",
        "num_samples = 50_000  # Dataset size\n",
        "noise_std_dev = 5  # Standard deviation of noise\n",
        "\n",
        "noisy_data = generate_noisy_data(normal_ranges, num_samples, noise_std_dev)\n",
        "\n",
        "\n",
        "filename = \"test.csv\"\n",
        "export_noisy_data_to_csv(noisy_data, filename)"
      ]
    }
  ],
  "metadata": {
    "colab": {
      "provenance": []
    },
    "kernelspec": {
      "display_name": "Python 3",
      "name": "python3"
    },
    "language_info": {
      "codemirror_mode": {
        "name": "ipython",
        "version": 3
      },
      "file_extension": ".py",
      "mimetype": "text/x-python",
      "name": "python",
      "nbconvert_exporter": "python",
      "pygments_lexer": "ipython3",
      "version": "3.8.17"
    }
  },
  "nbformat": 4,
  "nbformat_minor": 0
}
